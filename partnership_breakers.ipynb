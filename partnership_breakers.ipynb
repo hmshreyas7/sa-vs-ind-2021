{
 "cells": [
  {
   "cell_type": "code",
   "execution_count": 1,
   "metadata": {},
   "outputs": [],
   "source": [
    "import pandas as pd\n",
    "import matplotlib.pyplot as plt"
   ]
  },
  {
   "cell_type": "code",
   "execution_count": 2,
   "metadata": {},
   "outputs": [],
   "source": [
    "# Get data for all Test matches (March 8, 2004 - December 26, 2021) - compiled together from Cricsheet\n",
    "data = pd.read_csv('all_matches.csv')"
   ]
  },
  {
   "cell_type": "code",
   "execution_count": 3,
   "metadata": {},
   "outputs": [],
   "source": [
    "# Set the desired player's info\n",
    "player = 'SN Thakur'\n",
    "player_short_name = 'Thakur'\n",
    "player_debut = '2018-10-12'\n",
    "team_desc = 'Indian'\n",
    "\n",
    "# Filter and sort the data\n",
    "data = data[data['start_date'] >= player_debut]\n",
    "data = data.sort_values(['start_date', 'innings', 'ball'])\n",
    "\n",
    "# Combine the runs scored off the bat with the extras for partnership calculations\n",
    "data['runs'] = data['runs_off_bat'] + data['extras']"
   ]
  },
  {
   "cell_type": "code",
   "execution_count": 4,
   "metadata": {},
   "outputs": [],
   "source": [
    "# Return each innings after calculating the partnerships\n",
    "def get_partnerships(innings):\n",
    "    wicket_condition = ((~innings['player_dismissed'].isnull()) & \n",
    "                        (~innings['wicket_type'].isin(['retired hurt', 'retired not out']))).shift(fill_value = False).cumsum()\n",
    "    innings['partnership'] = innings.groupby(wicket_condition)['runs'].cumsum()\n",
    "    return innings\n",
    "\n",
    "# Calculate the cumulative partnerships for each innings in each match\n",
    "data = data.groupby(['match_id', 'innings']).apply(get_partnerships)"
   ]
  },
  {
   "cell_type": "code",
   "execution_count": 5,
   "metadata": {},
   "outputs": [
    {
     "data": {
      "text/html": [
       "<div>\n",
       "<style scoped>\n",
       "    .dataframe tbody tr th:only-of-type {\n",
       "        vertical-align: middle;\n",
       "    }\n",
       "\n",
       "    .dataframe tbody tr th {\n",
       "        vertical-align: top;\n",
       "    }\n",
       "\n",
       "    .dataframe thead th {\n",
       "        text-align: right;\n",
       "    }\n",
       "</style>\n",
       "<table border=\"1\" class=\"dataframe\">\n",
       "  <thead>\n",
       "    <tr style=\"text-align: right;\">\n",
       "      <th></th>\n",
       "      <th>bowler</th>\n",
       "      <th>wickets</th>\n",
       "      <th>avg_partnership_broken</th>\n",
       "    </tr>\n",
       "  </thead>\n",
       "  <tbody>\n",
       "    <tr>\n",
       "      <th>0</th>\n",
       "      <td>AR Patel</td>\n",
       "      <td>36</td>\n",
       "      <td>12.36</td>\n",
       "    </tr>\n",
       "    <tr>\n",
       "      <th>1</th>\n",
       "      <td>I Sharma</td>\n",
       "      <td>55</td>\n",
       "      <td>20.95</td>\n",
       "    </tr>\n",
       "    <tr>\n",
       "      <th>2</th>\n",
       "      <td>JJ Bumrah</td>\n",
       "      <td>78</td>\n",
       "      <td>23.45</td>\n",
       "    </tr>\n",
       "    <tr>\n",
       "      <th>3</th>\n",
       "      <td>Mohammed Shami</td>\n",
       "      <td>75</td>\n",
       "      <td>22.05</td>\n",
       "    </tr>\n",
       "    <tr>\n",
       "      <th>4</th>\n",
       "      <td>Mohammed Siraj</td>\n",
       "      <td>36</td>\n",
       "      <td>26.78</td>\n",
       "    </tr>\n",
       "    <tr>\n",
       "      <th>5</th>\n",
       "      <td>R Ashwin</td>\n",
       "      <td>96</td>\n",
       "      <td>23.28</td>\n",
       "    </tr>\n",
       "    <tr>\n",
       "      <th>6</th>\n",
       "      <td>RA Jadeja</td>\n",
       "      <td>50</td>\n",
       "      <td>21.60</td>\n",
       "    </tr>\n",
       "    <tr>\n",
       "      <th>7</th>\n",
       "      <td>SN Thakur</td>\n",
       "      <td>16</td>\n",
       "      <td>38.56</td>\n",
       "    </tr>\n",
       "    <tr>\n",
       "      <th>8</th>\n",
       "      <td>UT Yadav</td>\n",
       "      <td>49</td>\n",
       "      <td>22.55</td>\n",
       "    </tr>\n",
       "  </tbody>\n",
       "</table>\n",
       "</div>"
      ],
      "text/plain": [
       "           bowler  wickets  avg_partnership_broken\n",
       "0        AR Patel       36                   12.36\n",
       "1        I Sharma       55                   20.95\n",
       "2       JJ Bumrah       78                   23.45\n",
       "3  Mohammed Shami       75                   22.05\n",
       "4  Mohammed Siraj       36                   26.78\n",
       "5        R Ashwin       96                   23.28\n",
       "6       RA Jadeja       50                   21.60\n",
       "7       SN Thakur       16                   38.56\n",
       "8        UT Yadav       49                   22.55"
      ]
     },
     "execution_count": 5,
     "metadata": {},
     "output_type": "execute_result"
    }
   ],
   "source": [
    "# Get all dismissals excluding run out, retired hurt, and retired not out\n",
    "dismissals = data[(~data['player_dismissed'].isnull()) & \n",
    "                  (~data['wicket_type'].isin(['run out', 'retired hurt', 'retired not out']))]\n",
    "\n",
    "# Calculate the total partnership runs and wickets taken for each bowler\n",
    "bowling_summary = dismissals.groupby(['bowler', 'bowling_team'])['partnership'].agg(partnership_runs = 'sum', wickets = 'count').reset_index()\n",
    "bowling_summary['avg_partnership_broken'] = (bowling_summary['partnership_runs'] / bowling_summary['wickets']).round(2)\n",
    "filtered_bowling_summary = bowling_summary[bowling_summary['wickets'] > 15].reset_index(drop = True)\n",
    "\n",
    "# Display the bowling summary for a team\n",
    "team_bowling_data = filtered_bowling_summary[filtered_bowling_summary['bowling_team'] == 'India'].reset_index()\n",
    "team_bowling_data[['bowler', 'wickets', 'avg_partnership_broken']]"
   ]
  },
  {
   "cell_type": "code",
   "execution_count": 6,
   "metadata": {
    "scrolled": false
   },
   "outputs": [
    {
     "data": {
      "image/png": "[encoded data removed]",
      "text/plain": [
       "<Figure size 1152x864 with 1 Axes>"
      ]
     },
     "metadata": {
      "needs_background": "light"
     },
     "output_type": "display_data"
    }
   ],
   "source": [
    "# Set up the plot\n",
    "plt.figure(figsize = (16, 12))\n",
    "plt.rcParams.update({'font.size': 12})\n",
    "plt.title('Average Partnerships Broken by ' + team_desc  + ' Bowlers in Tests Since ' + player_short_name + \"'s Debut (Min. 15 Wickets)\")\n",
    "\n",
    "# PLot a horizontal bar chart that represents the bowling summary data for the team\n",
    "team_bowling_data = team_bowling_data.sort_values('avg_partnership_broken')\n",
    "plt.barh(team_bowling_data['bowler'], width = team_bowling_data['avg_partnership_broken'], color = 'grey', alpha = 0.5)\n",
    "plt.barh(player, width = team_bowling_data[team_bowling_data['bowler'] == player]['avg_partnership_broken'], color = 'red', alpha = 0.5)\n",
    "\n",
    "# Add value labels for each bar\n",
    "for x, y in enumerate(team_bowling_data['avg_partnership_broken']):\n",
    "    plt.text(y, x, ' ' + '{:.2f}'.format(y), va = 'center', fontweight = 'bold')\n",
    "    \n",
    "# Display the plot\n",
    "plt.show()"
   ]
  }
 ],
 "metadata": {
  "kernelspec": {
   "display_name": "Python 3",
   "language": "python",
   "name": "python3"
  },
  "language_info": {
   "codemirror_mode": {
    "name": "ipython",
    "version": 3
   },
   "file_extension": ".py",
   "mimetype": "text/x-python",
   "name": "python",
   "nbconvert_exporter": "python",
   "pygments_lexer": "ipython3",
   "version": "3.5.4"
  }
 },
 "nbformat": 4,
 "nbformat_minor": 2
}
